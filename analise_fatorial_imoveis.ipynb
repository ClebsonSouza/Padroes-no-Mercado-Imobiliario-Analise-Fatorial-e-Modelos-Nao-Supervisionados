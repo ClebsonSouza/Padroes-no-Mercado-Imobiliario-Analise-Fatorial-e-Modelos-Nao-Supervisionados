{
 "cells": [
  {
   "cell_type": "markdown",
   "metadata": {},
   "source": [
    "OBJETIVO DA ANÁLISE"
   ]
  },
  {
   "cell_type": "markdown",
   "metadata": {},
   "source": [
    "Utilizar a análise fatorial para identificar os principais fatores que influenciam a atratividade e o valor das propriedades,\n",
    "facilitando decisões de investimento, desenvolvimento e marketing."
   ]
  },
  {
   "cell_type": "markdown",
   "metadata": {},
   "source": [
    "#### IMPORTAÇÃO DE BIBLIOTECAS"
   ]
  },
  {
   "cell_type": "markdown",
   "metadata": {},
   "source": [
    "#### BASE DE DADOS\n",
    "\n",
    "Fonte: adaptado de https://www.kaggle.com/datasets/elakiricoder/jiffs-house-price-prediction-dataset"
   ]
  },
  {
   "cell_type": "markdown",
   "metadata": {},
   "source": [
    "- land_size_sqm: Tamanho do terreno (m²).\n",
    "\n",
    "- house_size_sqm: Tamanho da casa (m²).\n",
    "\n",
    "- no_of_rooms: Número de quartos.\n",
    "\n",
    "- no_of_bathrooms: Número de banheiros.\n",
    "\n",
    "- distance_to_school: Distância até a escola (km).\n",
    "\n",
    "- house_age: Idade da casa (anos).\n",
    "\n",
    "- distance_to_supermarket_km: Distância até o supermercado (km).\n",
    "\n",
    "- crime_rate_index: Índice de criminalidade.\n",
    "\n",
    "- property_value: Valor da propriedade (unidade monetária)."
   ]
  },
  {
   "cell_type": "code",
   "execution_count": 23,
   "metadata": {},
   "outputs": [],
   "source": [
    "import pandas as pd\n",
    "import numpy as np\n",
    "from factor_analyzer import FactorAnalyzer\n",
    "from factor_analyzer.factor_analyzer import calculate_bartlett_sphericity\n",
    "import pingouin as pg\n",
    "import matplotlib.pyplot as plt\n",
    "import seaborn as sns\n",
    "import plotly.io as pio\n",
    "import plotly.graph_objects as go"
   ]
  },
  {
   "cell_type": "markdown",
   "metadata": {},
   "source": [
    "#### IMPORTANDO O BANCO DE DADOS"
   ]
  },
  {
   "cell_type": "code",
   "execution_count": 2,
   "metadata": {},
   "outputs": [
    {
     "name": "stdout",
     "output_type": "stream",
     "text": [
      "<class 'pandas.core.frame.DataFrame'>\n",
      "RangeIndex: 4954 entries, 0 to 4953\n",
      "Data columns (total 9 columns):\n",
      " #   Column                      Non-Null Count  Dtype  \n",
      "---  ------                      --------------  -----  \n",
      " 0   land_size_sqm               4954 non-null   int64  \n",
      " 1   house_size_sqm              4954 non-null   int64  \n",
      " 2   no_of_rooms                 4954 non-null   int64  \n",
      " 3   no_of_bathrooms             4954 non-null   int64  \n",
      " 4   distance_to_school          4954 non-null   float64\n",
      " 5   house_age                   4954 non-null   int64  \n",
      " 6   distance_to_supermarket_km  4954 non-null   float64\n",
      " 7   crime_rate_index            4954 non-null   float64\n",
      " 8   property_value              4954 non-null   int64  \n",
      "dtypes: float64(3), int64(6)\n",
      "memory usage: 348.5 KB\n",
      "None\n"
     ]
    }
   ],
   "source": [
    "casas = pd.read_excel(\"preco_casas.xlsx\")\n",
    "\n",
    "\n",
    "print(casas.info())"
   ]
  },
  {
   "cell_type": "markdown",
   "metadata": {},
   "source": [
    "#### ESTATÍSTICA DESCRITIVAS DAS VARIÁVEIS"
   ]
  },
  {
   "cell_type": "code",
   "execution_count": 3,
   "metadata": {},
   "outputs": [
    {
     "data": {
      "text/html": [
       "<div>\n",
       "<style scoped>\n",
       "    .dataframe tbody tr th:only-of-type {\n",
       "        vertical-align: middle;\n",
       "    }\n",
       "\n",
       "    .dataframe tbody tr th {\n",
       "        vertical-align: top;\n",
       "    }\n",
       "\n",
       "    .dataframe thead th {\n",
       "        text-align: right;\n",
       "    }\n",
       "</style>\n",
       "<table border=\"1\" class=\"dataframe\">\n",
       "  <thead>\n",
       "    <tr style=\"text-align: right;\">\n",
       "      <th></th>\n",
       "      <th>land_size_sqm</th>\n",
       "      <th>house_size_sqm</th>\n",
       "      <th>no_of_rooms</th>\n",
       "      <th>no_of_bathrooms</th>\n",
       "      <th>distance_to_school</th>\n",
       "      <th>house_age</th>\n",
       "      <th>distance_to_supermarket_km</th>\n",
       "      <th>crime_rate_index</th>\n",
       "      <th>property_value</th>\n",
       "    </tr>\n",
       "  </thead>\n",
       "  <tbody>\n",
       "    <tr>\n",
       "      <th>count</th>\n",
       "      <td>4954.000000</td>\n",
       "      <td>4954.000000</td>\n",
       "      <td>4954.000000</td>\n",
       "      <td>4954.000000</td>\n",
       "      <td>4954.000000</td>\n",
       "      <td>4954.000000</td>\n",
       "      <td>4954.000000</td>\n",
       "      <td>4954.000000</td>\n",
       "      <td>4954.000000</td>\n",
       "    </tr>\n",
       "    <tr>\n",
       "      <th>mean</th>\n",
       "      <td>250.131409</td>\n",
       "      <td>231.250908</td>\n",
       "      <td>3.788252</td>\n",
       "      <td>3.199839</td>\n",
       "      <td>3.454219</td>\n",
       "      <td>11.444691</td>\n",
       "      <td>3.508639</td>\n",
       "      <td>2.986110</td>\n",
       "      <td>201974.738999</td>\n",
       "    </tr>\n",
       "    <tr>\n",
       "      <th>std</th>\n",
       "      <td>103.131939</td>\n",
       "      <td>94.571642</td>\n",
       "      <td>1.585371</td>\n",
       "      <td>1.602300</td>\n",
       "      <td>2.007358</td>\n",
       "      <td>6.356991</td>\n",
       "      <td>1.991266</td>\n",
       "      <td>1.737742</td>\n",
       "      <td>90031.882219</td>\n",
       "    </tr>\n",
       "    <tr>\n",
       "      <th>min</th>\n",
       "      <td>100.000000</td>\n",
       "      <td>85.000000</td>\n",
       "      <td>1.000000</td>\n",
       "      <td>1.000000</td>\n",
       "      <td>0.100000</td>\n",
       "      <td>1.000000</td>\n",
       "      <td>0.100000</td>\n",
       "      <td>0.010000</td>\n",
       "      <td>32622.000000</td>\n",
       "    </tr>\n",
       "    <tr>\n",
       "      <th>25%</th>\n",
       "      <td>180.000000</td>\n",
       "      <td>165.000000</td>\n",
       "      <td>3.000000</td>\n",
       "      <td>2.000000</td>\n",
       "      <td>1.700000</td>\n",
       "      <td>6.000000</td>\n",
       "      <td>1.800000</td>\n",
       "      <td>1.470000</td>\n",
       "      <td>136777.000000</td>\n",
       "    </tr>\n",
       "    <tr>\n",
       "      <th>50%</th>\n",
       "      <td>235.000000</td>\n",
       "      <td>217.500000</td>\n",
       "      <td>4.000000</td>\n",
       "      <td>3.000000</td>\n",
       "      <td>3.400000</td>\n",
       "      <td>11.000000</td>\n",
       "      <td>3.500000</td>\n",
       "      <td>3.020000</td>\n",
       "      <td>194515.500000</td>\n",
       "    </tr>\n",
       "    <tr>\n",
       "      <th>75%</th>\n",
       "      <td>295.000000</td>\n",
       "      <td>274.000000</td>\n",
       "      <td>5.000000</td>\n",
       "      <td>4.000000</td>\n",
       "      <td>5.200000</td>\n",
       "      <td>17.000000</td>\n",
       "      <td>5.300000</td>\n",
       "      <td>4.490000</td>\n",
       "      <td>246590.000000</td>\n",
       "    </tr>\n",
       "    <tr>\n",
       "      <th>max</th>\n",
       "      <td>796.000000</td>\n",
       "      <td>760.000000</td>\n",
       "      <td>8.000000</td>\n",
       "      <td>9.000000</td>\n",
       "      <td>6.900000</td>\n",
       "      <td>22.000000</td>\n",
       "      <td>6.900000</td>\n",
       "      <td>5.990000</td>\n",
       "      <td>692086.000000</td>\n",
       "    </tr>\n",
       "  </tbody>\n",
       "</table>\n",
       "</div>"
      ],
      "text/plain": [
       "       land_size_sqm  house_size_sqm  no_of_rooms  no_of_bathrooms  \\\n",
       "count    4954.000000     4954.000000  4954.000000      4954.000000   \n",
       "mean      250.131409      231.250908     3.788252         3.199839   \n",
       "std       103.131939       94.571642     1.585371         1.602300   \n",
       "min       100.000000       85.000000     1.000000         1.000000   \n",
       "25%       180.000000      165.000000     3.000000         2.000000   \n",
       "50%       235.000000      217.500000     4.000000         3.000000   \n",
       "75%       295.000000      274.000000     5.000000         4.000000   \n",
       "max       796.000000      760.000000     8.000000         9.000000   \n",
       "\n",
       "       distance_to_school    house_age  distance_to_supermarket_km  \\\n",
       "count         4954.000000  4954.000000                 4954.000000   \n",
       "mean             3.454219    11.444691                    3.508639   \n",
       "std              2.007358     6.356991                    1.991266   \n",
       "min              0.100000     1.000000                    0.100000   \n",
       "25%              1.700000     6.000000                    1.800000   \n",
       "50%              3.400000    11.000000                    3.500000   \n",
       "75%              5.200000    17.000000                    5.300000   \n",
       "max              6.900000    22.000000                    6.900000   \n",
       "\n",
       "       crime_rate_index  property_value  \n",
       "count       4954.000000     4954.000000  \n",
       "mean           2.986110   201974.738999  \n",
       "std            1.737742    90031.882219  \n",
       "min            0.010000    32622.000000  \n",
       "25%            1.470000   136777.000000  \n",
       "50%            3.020000   194515.500000  \n",
       "75%            4.490000   246590.000000  \n",
       "max            5.990000   692086.000000  "
      ]
     },
     "metadata": {},
     "output_type": "display_data"
    },
    {
     "data": {
      "text/html": [
       "<div>\n",
       "<style scoped>\n",
       "    .dataframe tbody tr th:only-of-type {\n",
       "        vertical-align: middle;\n",
       "    }\n",
       "\n",
       "    .dataframe tbody tr th {\n",
       "        vertical-align: top;\n",
       "    }\n",
       "\n",
       "    .dataframe thead th {\n",
       "        text-align: right;\n",
       "    }\n",
       "</style>\n",
       "<table border=\"1\" class=\"dataframe\">\n",
       "  <thead>\n",
       "    <tr style=\"text-align: right;\">\n",
       "      <th></th>\n",
       "      <th>land_size_sqm</th>\n",
       "      <th>house_size_sqm</th>\n",
       "      <th>no_of_rooms</th>\n",
       "      <th>no_of_bathrooms</th>\n",
       "      <th>distance_to_school</th>\n",
       "      <th>house_age</th>\n",
       "      <th>distance_to_supermarket_km</th>\n",
       "      <th>crime_rate_index</th>\n",
       "      <th>property_value</th>\n",
       "    </tr>\n",
       "  </thead>\n",
       "  <tbody>\n",
       "    <tr>\n",
       "      <th>land_size_sqm</th>\n",
       "      <td>1.000000</td>\n",
       "      <td>0.991371</td>\n",
       "      <td>0.898252</td>\n",
       "      <td>0.679780</td>\n",
       "      <td>-0.011094</td>\n",
       "      <td>0.006547</td>\n",
       "      <td>0.004692</td>\n",
       "      <td>0.007752</td>\n",
       "      <td>0.973662</td>\n",
       "    </tr>\n",
       "    <tr>\n",
       "      <th>house_size_sqm</th>\n",
       "      <td>0.991371</td>\n",
       "      <td>1.000000</td>\n",
       "      <td>0.894753</td>\n",
       "      <td>0.677722</td>\n",
       "      <td>-0.010658</td>\n",
       "      <td>0.008198</td>\n",
       "      <td>0.001966</td>\n",
       "      <td>0.008044</td>\n",
       "      <td>0.964163</td>\n",
       "    </tr>\n",
       "    <tr>\n",
       "      <th>no_of_rooms</th>\n",
       "      <td>0.898252</td>\n",
       "      <td>0.894753</td>\n",
       "      <td>1.000000</td>\n",
       "      <td>0.710043</td>\n",
       "      <td>-0.006162</td>\n",
       "      <td>0.003455</td>\n",
       "      <td>-0.007287</td>\n",
       "      <td>0.014644</td>\n",
       "      <td>0.912155</td>\n",
       "    </tr>\n",
       "    <tr>\n",
       "      <th>no_of_bathrooms</th>\n",
       "      <td>0.679780</td>\n",
       "      <td>0.677722</td>\n",
       "      <td>0.710043</td>\n",
       "      <td>1.000000</td>\n",
       "      <td>-0.008322</td>\n",
       "      <td>0.000966</td>\n",
       "      <td>-0.002535</td>\n",
       "      <td>0.010655</td>\n",
       "      <td>0.686525</td>\n",
       "    </tr>\n",
       "    <tr>\n",
       "      <th>distance_to_school</th>\n",
       "      <td>-0.011094</td>\n",
       "      <td>-0.010658</td>\n",
       "      <td>-0.006162</td>\n",
       "      <td>-0.008322</td>\n",
       "      <td>1.000000</td>\n",
       "      <td>0.011519</td>\n",
       "      <td>0.010095</td>\n",
       "      <td>-0.002084</td>\n",
       "      <td>-0.072357</td>\n",
       "    </tr>\n",
       "    <tr>\n",
       "      <th>house_age</th>\n",
       "      <td>0.006547</td>\n",
       "      <td>0.008198</td>\n",
       "      <td>0.003455</td>\n",
       "      <td>0.000966</td>\n",
       "      <td>0.011519</td>\n",
       "      <td>1.000000</td>\n",
       "      <td>-0.002793</td>\n",
       "      <td>-0.000667</td>\n",
       "      <td>-0.037958</td>\n",
       "    </tr>\n",
       "    <tr>\n",
       "      <th>distance_to_supermarket_km</th>\n",
       "      <td>0.004692</td>\n",
       "      <td>0.001966</td>\n",
       "      <td>-0.007287</td>\n",
       "      <td>-0.002535</td>\n",
       "      <td>0.010095</td>\n",
       "      <td>-0.002793</td>\n",
       "      <td>1.000000</td>\n",
       "      <td>0.018026</td>\n",
       "      <td>-0.028634</td>\n",
       "    </tr>\n",
       "    <tr>\n",
       "      <th>crime_rate_index</th>\n",
       "      <td>0.007752</td>\n",
       "      <td>0.008044</td>\n",
       "      <td>0.014644</td>\n",
       "      <td>0.010655</td>\n",
       "      <td>-0.002084</td>\n",
       "      <td>-0.000667</td>\n",
       "      <td>0.018026</td>\n",
       "      <td>1.000000</td>\n",
       "      <td>-0.072801</td>\n",
       "    </tr>\n",
       "    <tr>\n",
       "      <th>property_value</th>\n",
       "      <td>0.973662</td>\n",
       "      <td>0.964163</td>\n",
       "      <td>0.912155</td>\n",
       "      <td>0.686525</td>\n",
       "      <td>-0.072357</td>\n",
       "      <td>-0.037958</td>\n",
       "      <td>-0.028634</td>\n",
       "      <td>-0.072801</td>\n",
       "      <td>1.000000</td>\n",
       "    </tr>\n",
       "  </tbody>\n",
       "</table>\n",
       "</div>"
      ],
      "text/plain": [
       "                            land_size_sqm  house_size_sqm  no_of_rooms  \\\n",
       "land_size_sqm                    1.000000        0.991371     0.898252   \n",
       "house_size_sqm                   0.991371        1.000000     0.894753   \n",
       "no_of_rooms                      0.898252        0.894753     1.000000   \n",
       "no_of_bathrooms                  0.679780        0.677722     0.710043   \n",
       "distance_to_school              -0.011094       -0.010658    -0.006162   \n",
       "house_age                        0.006547        0.008198     0.003455   \n",
       "distance_to_supermarket_km       0.004692        0.001966    -0.007287   \n",
       "crime_rate_index                 0.007752        0.008044     0.014644   \n",
       "property_value                   0.973662        0.964163     0.912155   \n",
       "\n",
       "                            no_of_bathrooms  distance_to_school  house_age  \\\n",
       "land_size_sqm                      0.679780           -0.011094   0.006547   \n",
       "house_size_sqm                     0.677722           -0.010658   0.008198   \n",
       "no_of_rooms                        0.710043           -0.006162   0.003455   \n",
       "no_of_bathrooms                    1.000000           -0.008322   0.000966   \n",
       "distance_to_school                -0.008322            1.000000   0.011519   \n",
       "house_age                          0.000966            0.011519   1.000000   \n",
       "distance_to_supermarket_km        -0.002535            0.010095  -0.002793   \n",
       "crime_rate_index                   0.010655           -0.002084  -0.000667   \n",
       "property_value                     0.686525           -0.072357  -0.037958   \n",
       "\n",
       "                            distance_to_supermarket_km  crime_rate_index  \\\n",
       "land_size_sqm                                 0.004692          0.007752   \n",
       "house_size_sqm                                0.001966          0.008044   \n",
       "no_of_rooms                                  -0.007287          0.014644   \n",
       "no_of_bathrooms                              -0.002535          0.010655   \n",
       "distance_to_school                            0.010095         -0.002084   \n",
       "house_age                                    -0.002793         -0.000667   \n",
       "distance_to_supermarket_km                    1.000000          0.018026   \n",
       "crime_rate_index                              0.018026          1.000000   \n",
       "property_value                               -0.028634         -0.072801   \n",
       "\n",
       "                            property_value  \n",
       "land_size_sqm                     0.973662  \n",
       "house_size_sqm                    0.964163  \n",
       "no_of_rooms                       0.912155  \n",
       "no_of_bathrooms                   0.686525  \n",
       "distance_to_school               -0.072357  \n",
       "house_age                        -0.037958  \n",
       "distance_to_supermarket_km       -0.028634  \n",
       "crime_rate_index                 -0.072801  \n",
       "property_value                    1.000000  "
      ]
     },
     "metadata": {},
     "output_type": "display_data"
    }
   ],
   "source": [
    "tab_desc = casas.describe()\n",
    "\n",
    "display(tab_desc)\n",
    "\n",
    "#Analisando as correlações de Pearson\n",
    "\n",
    "# Matriz de correlações\n",
    "\n",
    "corr = casas.corr()\n",
    "\n",
    "display(corr)"
   ]
  },
  {
   "cell_type": "markdown",
   "metadata": {},
   "source": [
    "#### GRÁFICO DE CORRELAÇÃO"
   ]
  },
  {
   "cell_type": "code",
   "execution_count": 4,
   "metadata": {},
   "outputs": [
    {
     "data": {
      "application/vnd.plotly.v1+json": {
       "config": {
        "plotlyServerURL": "https://plot.ly"
       },
       "data": [
        {
         "colorscale": [
          [
           0,
           "#440154"
          ],
          [
           0.1111111111111111,
           "#482878"
          ],
          [
           0.2222222222222222,
           "#3e4989"
          ],
          [
           0.3333333333333333,
           "#31688e"
          ],
          [
           0.4444444444444444,
           "#26828e"
          ],
          [
           0.5555555555555556,
           "#1f9e89"
          ],
          [
           0.6666666666666666,
           "#35b779"
          ],
          [
           0.7777777777777778,
           "#6ece58"
          ],
          [
           0.8888888888888888,
           "#b5de2b"
          ],
          [
           1,
           "#fde725"
          ]
         ],
         "text": [
          [
           1,
           0.9913710834190269,
           0.8982517994578145,
           0.6797800878428356,
           -0.011093603680910915,
           0.006546965532989949,
           0.004691553125875587,
           0.007752246997137356,
           0.9736617620463331
          ],
          [
           0.9913710834190269,
           1,
           0.8947525042631207,
           0.6777220263027214,
           -0.010657748434116845,
           0.00819768727833592,
           0.001965896486152939,
           0.008043763343651074,
           0.9641630110675464
          ],
          [
           0.8982517994578145,
           0.8947525042631207,
           1,
           0.7100434508294804,
           -0.006161758246330507,
           0.0034553375848167056,
           -0.007286803574531875,
           0.014643792670940738,
           0.9121551559927163
          ],
          [
           0.6797800878428356,
           0.6777220263027214,
           0.7100434508294804,
           1,
           -0.008322044990436145,
           0.0009664115497906924,
           -0.0025345139343587553,
           0.010654797515539194,
           0.6865254862621066
          ],
          [
           -0.011093603680910915,
           -0.010657748434116845,
           -0.006161758246330507,
           -0.008322044990436145,
           1,
           0.011519140680837727,
           0.010095414107999879,
           -0.0020840638138690383,
           -0.07235669669080197
          ],
          [
           0.006546965532989949,
           0.00819768727833592,
           0.0034553375848167056,
           0.0009664115497906924,
           0.011519140680837727,
           1,
           -0.002793304898096261,
           -0.000667475089536185,
           -0.03795788037112722
          ],
          [
           0.004691553125875587,
           0.001965896486152939,
           -0.007286803574531875,
           -0.0025345139343587553,
           0.010095414107999879,
           -0.002793304898096261,
           1,
           0.018026044917422733,
           -0.028634415740210722
          ],
          [
           0.007752246997137356,
           0.008043763343651074,
           0.014643792670940738,
           0.010654797515539194,
           -0.0020840638138690383,
           -0.000667475089536185,
           0.018026044917422733,
           1,
           -0.07280107356271871
          ],
          [
           0.9736617620463331,
           0.9641630110675464,
           0.9121551559927163,
           0.6865254862621066,
           -0.07235669669080197,
           -0.03795788037112722,
           -0.028634415740210722,
           -0.07280107356271871,
           1
          ]
         ],
         "texttemplate": "%{text:.3f}",
         "type": "heatmap",
         "x": [
          "land_size_sqm",
          "house_size_sqm",
          "no_of_rooms",
          "no_of_bathrooms",
          "distance_to_school",
          "house_age",
          "distance_to_supermarket_km",
          "crime_rate_index",
          "property_value"
         ],
         "y": [
          "land_size_sqm",
          "house_size_sqm",
          "no_of_rooms",
          "no_of_bathrooms",
          "distance_to_school",
          "house_age",
          "distance_to_supermarket_km",
          "crime_rate_index",
          "property_value"
         ],
         "z": [
          [
           1,
           0.9913710834190269,
           0.8982517994578145,
           0.6797800878428356,
           -0.011093603680910915,
           0.006546965532989949,
           0.004691553125875587,
           0.007752246997137356,
           0.9736617620463331
          ],
          [
           0.9913710834190269,
           1,
           0.8947525042631207,
           0.6777220263027214,
           -0.010657748434116845,
           0.00819768727833592,
           0.001965896486152939,
           0.008043763343651074,
           0.9641630110675464
          ],
          [
           0.8982517994578145,
           0.8947525042631207,
           1,
           0.7100434508294804,
           -0.006161758246330507,
           0.0034553375848167056,
           -0.007286803574531875,
           0.014643792670940738,
           0.9121551559927163
          ],
          [
           0.6797800878428356,
           0.6777220263027214,
           0.7100434508294804,
           1,
           -0.008322044990436145,
           0.0009664115497906924,
           -0.0025345139343587553,
           0.010654797515539194,
           0.6865254862621066
          ],
          [
           -0.011093603680910915,
           -0.010657748434116845,
           -0.006161758246330507,
           -0.008322044990436145,
           1,
           0.011519140680837727,
           0.010095414107999879,
           -0.0020840638138690383,
           -0.07235669669080197
          ],
          [
           0.006546965532989949,
           0.00819768727833592,
           0.0034553375848167056,
           0.0009664115497906924,
           0.011519140680837727,
           1,
           -0.002793304898096261,
           -0.000667475089536185,
           -0.03795788037112722
          ],
          [
           0.004691553125875587,
           0.001965896486152939,
           -0.007286803574531875,
           -0.0025345139343587553,
           0.010095414107999879,
           -0.002793304898096261,
           1,
           0.018026044917422733,
           -0.028634415740210722
          ],
          [
           0.007752246997137356,
           0.008043763343651074,
           0.014643792670940738,
           0.010654797515539194,
           -0.0020840638138690383,
           -0.000667475089536185,
           0.018026044917422733,
           1,
           -0.07280107356271871
          ],
          [
           0.9736617620463331,
           0.9641630110675464,
           0.9121551559927163,
           0.6865254862621066,
           -0.07235669669080197,
           -0.03795788037112722,
           -0.028634415740210722,
           -0.07280107356271871,
           1
          ]
         ]
        }
       ],
       "layout": {
        "height": 750,
        "template": {
         "data": {
          "bar": [
           {
            "error_x": {
             "color": "#2a3f5f"
            },
            "error_y": {
             "color": "#2a3f5f"
            },
            "marker": {
             "line": {
              "color": "#E5ECF6",
              "width": 0.5
             },
             "pattern": {
              "fillmode": "overlay",
              "size": 10,
              "solidity": 0.2
             }
            },
            "type": "bar"
           }
          ],
          "barpolar": [
           {
            "marker": {
             "line": {
              "color": "#E5ECF6",
              "width": 0.5
             },
             "pattern": {
              "fillmode": "overlay",
              "size": 10,
              "solidity": 0.2
             }
            },
            "type": "barpolar"
           }
          ],
          "carpet": [
           {
            "aaxis": {
             "endlinecolor": "#2a3f5f",
             "gridcolor": "white",
             "linecolor": "white",
             "minorgridcolor": "white",
             "startlinecolor": "#2a3f5f"
            },
            "baxis": {
             "endlinecolor": "#2a3f5f",
             "gridcolor": "white",
             "linecolor": "white",
             "minorgridcolor": "white",
             "startlinecolor": "#2a3f5f"
            },
            "type": "carpet"
           }
          ],
          "choropleth": [
           {
            "colorbar": {
             "outlinewidth": 0,
             "ticks": ""
            },
            "type": "choropleth"
           }
          ],
          "contour": [
           {
            "colorbar": {
             "outlinewidth": 0,
             "ticks": ""
            },
            "colorscale": [
             [
              0,
              "#0d0887"
             ],
             [
              0.1111111111111111,
              "#46039f"
             ],
             [
              0.2222222222222222,
              "#7201a8"
             ],
             [
              0.3333333333333333,
              "#9c179e"
             ],
             [
              0.4444444444444444,
              "#bd3786"
             ],
             [
              0.5555555555555556,
              "#d8576b"
             ],
             [
              0.6666666666666666,
              "#ed7953"
             ],
             [
              0.7777777777777778,
              "#fb9f3a"
             ],
             [
              0.8888888888888888,
              "#fdca26"
             ],
             [
              1,
              "#f0f921"
             ]
            ],
            "type": "contour"
           }
          ],
          "contourcarpet": [
           {
            "colorbar": {
             "outlinewidth": 0,
             "ticks": ""
            },
            "type": "contourcarpet"
           }
          ],
          "heatmap": [
           {
            "colorbar": {
             "outlinewidth": 0,
             "ticks": ""
            },
            "colorscale": [
             [
              0,
              "#0d0887"
             ],
             [
              0.1111111111111111,
              "#46039f"
             ],
             [
              0.2222222222222222,
              "#7201a8"
             ],
             [
              0.3333333333333333,
              "#9c179e"
             ],
             [
              0.4444444444444444,
              "#bd3786"
             ],
             [
              0.5555555555555556,
              "#d8576b"
             ],
             [
              0.6666666666666666,
              "#ed7953"
             ],
             [
              0.7777777777777778,
              "#fb9f3a"
             ],
             [
              0.8888888888888888,
              "#fdca26"
             ],
             [
              1,
              "#f0f921"
             ]
            ],
            "type": "heatmap"
           }
          ],
          "heatmapgl": [
           {
            "colorbar": {
             "outlinewidth": 0,
             "ticks": ""
            },
            "colorscale": [
             [
              0,
              "#0d0887"
             ],
             [
              0.1111111111111111,
              "#46039f"
             ],
             [
              0.2222222222222222,
              "#7201a8"
             ],
             [
              0.3333333333333333,
              "#9c179e"
             ],
             [
              0.4444444444444444,
              "#bd3786"
             ],
             [
              0.5555555555555556,
              "#d8576b"
             ],
             [
              0.6666666666666666,
              "#ed7953"
             ],
             [
              0.7777777777777778,
              "#fb9f3a"
             ],
             [
              0.8888888888888888,
              "#fdca26"
             ],
             [
              1,
              "#f0f921"
             ]
            ],
            "type": "heatmapgl"
           }
          ],
          "histogram": [
           {
            "marker": {
             "pattern": {
              "fillmode": "overlay",
              "size": 10,
              "solidity": 0.2
             }
            },
            "type": "histogram"
           }
          ],
          "histogram2d": [
           {
            "colorbar": {
             "outlinewidth": 0,
             "ticks": ""
            },
            "colorscale": [
             [
              0,
              "#0d0887"
             ],
             [
              0.1111111111111111,
              "#46039f"
             ],
             [
              0.2222222222222222,
              "#7201a8"
             ],
             [
              0.3333333333333333,
              "#9c179e"
             ],
             [
              0.4444444444444444,
              "#bd3786"
             ],
             [
              0.5555555555555556,
              "#d8576b"
             ],
             [
              0.6666666666666666,
              "#ed7953"
             ],
             [
              0.7777777777777778,
              "#fb9f3a"
             ],
             [
              0.8888888888888888,
              "#fdca26"
             ],
             [
              1,
              "#f0f921"
             ]
            ],
            "type": "histogram2d"
           }
          ],
          "histogram2dcontour": [
           {
            "colorbar": {
             "outlinewidth": 0,
             "ticks": ""
            },
            "colorscale": [
             [
              0,
              "#0d0887"
             ],
             [
              0.1111111111111111,
              "#46039f"
             ],
             [
              0.2222222222222222,
              "#7201a8"
             ],
             [
              0.3333333333333333,
              "#9c179e"
             ],
             [
              0.4444444444444444,
              "#bd3786"
             ],
             [
              0.5555555555555556,
              "#d8576b"
             ],
             [
              0.6666666666666666,
              "#ed7953"
             ],
             [
              0.7777777777777778,
              "#fb9f3a"
             ],
             [
              0.8888888888888888,
              "#fdca26"
             ],
             [
              1,
              "#f0f921"
             ]
            ],
            "type": "histogram2dcontour"
           }
          ],
          "mesh3d": [
           {
            "colorbar": {
             "outlinewidth": 0,
             "ticks": ""
            },
            "type": "mesh3d"
           }
          ],
          "parcoords": [
           {
            "line": {
             "colorbar": {
              "outlinewidth": 0,
              "ticks": ""
             }
            },
            "type": "parcoords"
           }
          ],
          "pie": [
           {
            "automargin": true,
            "type": "pie"
           }
          ],
          "scatter": [
           {
            "fillpattern": {
             "fillmode": "overlay",
             "size": 10,
             "solidity": 0.2
            },
            "type": "scatter"
           }
          ],
          "scatter3d": [
           {
            "line": {
             "colorbar": {
              "outlinewidth": 0,
              "ticks": ""
             }
            },
            "marker": {
             "colorbar": {
              "outlinewidth": 0,
              "ticks": ""
             }
            },
            "type": "scatter3d"
           }
          ],
          "scattercarpet": [
           {
            "marker": {
             "colorbar": {
              "outlinewidth": 0,
              "ticks": ""
             }
            },
            "type": "scattercarpet"
           }
          ],
          "scattergeo": [
           {
            "marker": {
             "colorbar": {
              "outlinewidth": 0,
              "ticks": ""
             }
            },
            "type": "scattergeo"
           }
          ],
          "scattergl": [
           {
            "marker": {
             "colorbar": {
              "outlinewidth": 0,
              "ticks": ""
             }
            },
            "type": "scattergl"
           }
          ],
          "scattermapbox": [
           {
            "marker": {
             "colorbar": {
              "outlinewidth": 0,
              "ticks": ""
             }
            },
            "type": "scattermapbox"
           }
          ],
          "scatterpolar": [
           {
            "marker": {
             "colorbar": {
              "outlinewidth": 0,
              "ticks": ""
             }
            },
            "type": "scatterpolar"
           }
          ],
          "scatterpolargl": [
           {
            "marker": {
             "colorbar": {
              "outlinewidth": 0,
              "ticks": ""
             }
            },
            "type": "scatterpolargl"
           }
          ],
          "scatterternary": [
           {
            "marker": {
             "colorbar": {
              "outlinewidth": 0,
              "ticks": ""
             }
            },
            "type": "scatterternary"
           }
          ],
          "surface": [
           {
            "colorbar": {
             "outlinewidth": 0,
             "ticks": ""
            },
            "colorscale": [
             [
              0,
              "#0d0887"
             ],
             [
              0.1111111111111111,
              "#46039f"
             ],
             [
              0.2222222222222222,
              "#7201a8"
             ],
             [
              0.3333333333333333,
              "#9c179e"
             ],
             [
              0.4444444444444444,
              "#bd3786"
             ],
             [
              0.5555555555555556,
              "#d8576b"
             ],
             [
              0.6666666666666666,
              "#ed7953"
             ],
             [
              0.7777777777777778,
              "#fb9f3a"
             ],
             [
              0.8888888888888888,
              "#fdca26"
             ],
             [
              1,
              "#f0f921"
             ]
            ],
            "type": "surface"
           }
          ],
          "table": [
           {
            "cells": {
             "fill": {
              "color": "#EBF0F8"
             },
             "line": {
              "color": "white"
             }
            },
            "header": {
             "fill": {
              "color": "#C8D4E3"
             },
             "line": {
              "color": "white"
             }
            },
            "type": "table"
           }
          ]
         },
         "layout": {
          "annotationdefaults": {
           "arrowcolor": "#2a3f5f",
           "arrowhead": 0,
           "arrowwidth": 1
          },
          "autotypenumbers": "strict",
          "coloraxis": {
           "colorbar": {
            "outlinewidth": 0,
            "ticks": ""
           }
          },
          "colorscale": {
           "diverging": [
            [
             0,
             "#8e0152"
            ],
            [
             0.1,
             "#c51b7d"
            ],
            [
             0.2,
             "#de77ae"
            ],
            [
             0.3,
             "#f1b6da"
            ],
            [
             0.4,
             "#fde0ef"
            ],
            [
             0.5,
             "#f7f7f7"
            ],
            [
             0.6,
             "#e6f5d0"
            ],
            [
             0.7,
             "#b8e186"
            ],
            [
             0.8,
             "#7fbc41"
            ],
            [
             0.9,
             "#4d9221"
            ],
            [
             1,
             "#276419"
            ]
           ],
           "sequential": [
            [
             0,
             "#0d0887"
            ],
            [
             0.1111111111111111,
             "#46039f"
            ],
            [
             0.2222222222222222,
             "#7201a8"
            ],
            [
             0.3333333333333333,
             "#9c179e"
            ],
            [
             0.4444444444444444,
             "#bd3786"
            ],
            [
             0.5555555555555556,
             "#d8576b"
            ],
            [
             0.6666666666666666,
             "#ed7953"
            ],
            [
             0.7777777777777778,
             "#fb9f3a"
            ],
            [
             0.8888888888888888,
             "#fdca26"
            ],
            [
             1,
             "#f0f921"
            ]
           ],
           "sequentialminus": [
            [
             0,
             "#0d0887"
            ],
            [
             0.1111111111111111,
             "#46039f"
            ],
            [
             0.2222222222222222,
             "#7201a8"
            ],
            [
             0.3333333333333333,
             "#9c179e"
            ],
            [
             0.4444444444444444,
             "#bd3786"
            ],
            [
             0.5555555555555556,
             "#d8576b"
            ],
            [
             0.6666666666666666,
             "#ed7953"
            ],
            [
             0.7777777777777778,
             "#fb9f3a"
            ],
            [
             0.8888888888888888,
             "#fdca26"
            ],
            [
             1,
             "#f0f921"
            ]
           ]
          },
          "colorway": [
           "#636efa",
           "#EF553B",
           "#00cc96",
           "#ab63fa",
           "#FFA15A",
           "#19d3f3",
           "#FF6692",
           "#B6E880",
           "#FF97FF",
           "#FECB52"
          ],
          "font": {
           "color": "#2a3f5f"
          },
          "geo": {
           "bgcolor": "white",
           "lakecolor": "white",
           "landcolor": "#E5ECF6",
           "showlakes": true,
           "showland": true,
           "subunitcolor": "white"
          },
          "hoverlabel": {
           "align": "left"
          },
          "hovermode": "closest",
          "mapbox": {
           "style": "light"
          },
          "paper_bgcolor": "white",
          "plot_bgcolor": "#E5ECF6",
          "polar": {
           "angularaxis": {
            "gridcolor": "white",
            "linecolor": "white",
            "ticks": ""
           },
           "bgcolor": "#E5ECF6",
           "radialaxis": {
            "gridcolor": "white",
            "linecolor": "white",
            "ticks": ""
           }
          },
          "scene": {
           "xaxis": {
            "backgroundcolor": "#E5ECF6",
            "gridcolor": "white",
            "gridwidth": 2,
            "linecolor": "white",
            "showbackground": true,
            "ticks": "",
            "zerolinecolor": "white"
           },
           "yaxis": {
            "backgroundcolor": "#E5ECF6",
            "gridcolor": "white",
            "gridwidth": 2,
            "linecolor": "white",
            "showbackground": true,
            "ticks": "",
            "zerolinecolor": "white"
           },
           "zaxis": {
            "backgroundcolor": "#E5ECF6",
            "gridcolor": "white",
            "gridwidth": 2,
            "linecolor": "white",
            "showbackground": true,
            "ticks": "",
            "zerolinecolor": "white"
           }
          },
          "shapedefaults": {
           "line": {
            "color": "#2a3f5f"
           }
          },
          "ternary": {
           "aaxis": {
            "gridcolor": "white",
            "linecolor": "white",
            "ticks": ""
           },
           "baxis": {
            "gridcolor": "white",
            "linecolor": "white",
            "ticks": ""
           },
           "bgcolor": "#E5ECF6",
           "caxis": {
            "gridcolor": "white",
            "linecolor": "white",
            "ticks": ""
           }
          },
          "title": {
           "x": 0.05
          },
          "xaxis": {
           "automargin": true,
           "gridcolor": "white",
           "linecolor": "white",
           "ticks": "",
           "title": {
            "standoff": 15
           },
           "zerolinecolor": "white",
           "zerolinewidth": 2
          },
          "yaxis": {
           "automargin": true,
           "gridcolor": "white",
           "linecolor": "white",
           "ticks": "",
           "title": {
            "standoff": 15
           },
           "zerolinecolor": "white",
           "zerolinewidth": 2
          }
         }
        },
        "width": 750,
        "yaxis": {
         "autorange": "reversed"
        }
       }
      }
     },
     "metadata": {},
     "output_type": "display_data"
    }
   ],
   "source": [
    "fig = go.Figure()\n",
    "\n",
    "fig.add_trace(\n",
    "    go.Heatmap(\n",
    "        x = corr.columns,\n",
    "        y = corr.index,\n",
    "        z = np.array(corr),\n",
    "        text=corr.values,\n",
    "        texttemplate='%{text:.3f}',\n",
    "        colorscale='viridis'))\n",
    "\n",
    "fig.update_layout(\n",
    "    height = 750,\n",
    "    width = 750,\n",
    "    yaxis=dict(autorange=\"reversed\"))\n",
    "\n",
    "fig.show()"
   ]
  },
  {
   "cell_type": "code",
   "execution_count": 6,
   "metadata": {},
   "outputs": [
    {
     "data": {
      "text/html": [
       "<div>\n",
       "<style scoped>\n",
       "    .dataframe tbody tr th:only-of-type {\n",
       "        vertical-align: middle;\n",
       "    }\n",
       "\n",
       "    .dataframe tbody tr th {\n",
       "        vertical-align: top;\n",
       "    }\n",
       "\n",
       "    .dataframe thead th {\n",
       "        text-align: right;\n",
       "    }\n",
       "</style>\n",
       "<table border=\"1\" class=\"dataframe\">\n",
       "  <thead>\n",
       "    <tr style=\"text-align: right;\">\n",
       "      <th></th>\n",
       "      <th>land_size_sqm</th>\n",
       "      <th>house_size_sqm</th>\n",
       "      <th>no_of_rooms</th>\n",
       "      <th>no_of_bathrooms</th>\n",
       "      <th>distance_to_school</th>\n",
       "      <th>house_age</th>\n",
       "      <th>distance_to_supermarket_km</th>\n",
       "      <th>crime_rate_index</th>\n",
       "    </tr>\n",
       "  </thead>\n",
       "  <tbody>\n",
       "    <tr>\n",
       "      <th>0</th>\n",
       "      <td>201</td>\n",
       "      <td>177</td>\n",
       "      <td>3</td>\n",
       "      <td>1</td>\n",
       "      <td>3.3</td>\n",
       "      <td>10</td>\n",
       "      <td>6.8</td>\n",
       "      <td>0.90</td>\n",
       "    </tr>\n",
       "    <tr>\n",
       "      <th>1</th>\n",
       "      <td>196</td>\n",
       "      <td>182</td>\n",
       "      <td>4</td>\n",
       "      <td>3</td>\n",
       "      <td>1.2</td>\n",
       "      <td>11</td>\n",
       "      <td>4.1</td>\n",
       "      <td>1.42</td>\n",
       "    </tr>\n",
       "    <tr>\n",
       "      <th>2</th>\n",
       "      <td>198</td>\n",
       "      <td>182</td>\n",
       "      <td>4</td>\n",
       "      <td>4</td>\n",
       "      <td>5.9</td>\n",
       "      <td>20</td>\n",
       "      <td>2.1</td>\n",
       "      <td>4.12</td>\n",
       "    </tr>\n",
       "    <tr>\n",
       "      <th>3</th>\n",
       "      <td>178</td>\n",
       "      <td>166</td>\n",
       "      <td>2</td>\n",
       "      <td>3</td>\n",
       "      <td>5.9</td>\n",
       "      <td>5</td>\n",
       "      <td>0.7</td>\n",
       "      <td>4.36</td>\n",
       "    </tr>\n",
       "    <tr>\n",
       "      <th>4</th>\n",
       "      <td>183</td>\n",
       "      <td>165</td>\n",
       "      <td>3</td>\n",
       "      <td>1</td>\n",
       "      <td>3.8</td>\n",
       "      <td>8</td>\n",
       "      <td>0.7</td>\n",
       "      <td>0.42</td>\n",
       "    </tr>\n",
       "    <tr>\n",
       "      <th>...</th>\n",
       "      <td>...</td>\n",
       "      <td>...</td>\n",
       "      <td>...</td>\n",
       "      <td>...</td>\n",
       "      <td>...</td>\n",
       "      <td>...</td>\n",
       "      <td>...</td>\n",
       "      <td>...</td>\n",
       "    </tr>\n",
       "    <tr>\n",
       "      <th>4949</th>\n",
       "      <td>297</td>\n",
       "      <td>261</td>\n",
       "      <td>4</td>\n",
       "      <td>4</td>\n",
       "      <td>2.9</td>\n",
       "      <td>20</td>\n",
       "      <td>4.1</td>\n",
       "      <td>3.99</td>\n",
       "    </tr>\n",
       "    <tr>\n",
       "      <th>4950</th>\n",
       "      <td>302</td>\n",
       "      <td>282</td>\n",
       "      <td>4</td>\n",
       "      <td>2</td>\n",
       "      <td>3.8</td>\n",
       "      <td>12</td>\n",
       "      <td>4.8</td>\n",
       "      <td>2.09</td>\n",
       "    </tr>\n",
       "    <tr>\n",
       "      <th>4951</th>\n",
       "      <td>153</td>\n",
       "      <td>147</td>\n",
       "      <td>3</td>\n",
       "      <td>4</td>\n",
       "      <td>3.3</td>\n",
       "      <td>7</td>\n",
       "      <td>4.7</td>\n",
       "      <td>3.98</td>\n",
       "    </tr>\n",
       "    <tr>\n",
       "      <th>4952</th>\n",
       "      <td>180</td>\n",
       "      <td>158</td>\n",
       "      <td>2</td>\n",
       "      <td>1</td>\n",
       "      <td>2.2</td>\n",
       "      <td>1</td>\n",
       "      <td>3.4</td>\n",
       "      <td>3.75</td>\n",
       "    </tr>\n",
       "    <tr>\n",
       "      <th>4953</th>\n",
       "      <td>695</td>\n",
       "      <td>619</td>\n",
       "      <td>8</td>\n",
       "      <td>6</td>\n",
       "      <td>0.4</td>\n",
       "      <td>5</td>\n",
       "      <td>0.4</td>\n",
       "      <td>4.64</td>\n",
       "    </tr>\n",
       "  </tbody>\n",
       "</table>\n",
       "<p>4954 rows × 8 columns</p>\n",
       "</div>"
      ],
      "text/plain": [
       "      land_size_sqm  house_size_sqm  no_of_rooms  no_of_bathrooms  \\\n",
       "0               201             177            3                1   \n",
       "1               196             182            4                3   \n",
       "2               198             182            4                4   \n",
       "3               178             166            2                3   \n",
       "4               183             165            3                1   \n",
       "...             ...             ...          ...              ...   \n",
       "4949            297             261            4                4   \n",
       "4950            302             282            4                2   \n",
       "4951            153             147            3                4   \n",
       "4952            180             158            2                1   \n",
       "4953            695             619            8                6   \n",
       "\n",
       "      distance_to_school  house_age  distance_to_supermarket_km  \\\n",
       "0                    3.3         10                         6.8   \n",
       "1                    1.2         11                         4.1   \n",
       "2                    5.9         20                         2.1   \n",
       "3                    5.9          5                         0.7   \n",
       "4                    3.8          8                         0.7   \n",
       "...                  ...        ...                         ...   \n",
       "4949                 2.9         20                         4.1   \n",
       "4950                 3.8         12                         4.8   \n",
       "4951                 3.3          7                         4.7   \n",
       "4952                 2.2          1                         3.4   \n",
       "4953                 0.4          5                         0.4   \n",
       "\n",
       "      crime_rate_index  \n",
       "0                 0.90  \n",
       "1                 1.42  \n",
       "2                 4.12  \n",
       "3                 4.36  \n",
       "4                 0.42  \n",
       "...                ...  \n",
       "4949              3.99  \n",
       "4950              2.09  \n",
       "4951              3.98  \n",
       "4952              3.75  \n",
       "4953              4.64  \n",
       "\n",
       "[4954 rows x 8 columns]"
      ]
     },
     "execution_count": 6,
     "metadata": {},
     "output_type": "execute_result"
    }
   ],
   "source": [
    "#Selecionando as variáveis de interesse para a análise\n",
    "\n",
    "# Vamos deixar o preço das casas de fora da análise fatorial! \n",
    "\n",
    "casas_pca = casas.drop(columns=['property_value'])\n",
    "\n",
    "casas_pca"
   ]
  },
  {
   "cell_type": "markdown",
   "metadata": {},
   "source": [
    "#### TESTE DE ESFERICIDADE DE BARTLETT"
   ]
  },
  {
   "cell_type": "code",
   "execution_count": 8,
   "metadata": {},
   "outputs": [
    {
     "name": "stdout",
     "output_type": "stream",
     "text": [
      "Qui² Bartlett: 31857.46\n",
      "p-valor: 0.0\n",
      "Rejeitamos H0, portanto ficamos com hipótese alternativa (matriz de correlações é diferente da matriz identidade\n"
     ]
    }
   ],
   "source": [
    "#Teste de Esfericidade de Bartlett\n",
    "#gerar os testes para a matriz identidade\n",
    "\n",
    "\n",
    "bartlett, p_value = calculate_bartlett_sphericity(casas_pca)\n",
    "\n",
    "# print(f'Qui² Bartlett: {round(bartlett, 2)}')\n",
    "# print(f'p-valor: {round(p_value, 4)}')\n",
    "\n",
    "print(f'Qui² Bartlett: {round(bartlett, 2)}')\n",
    "\n",
    "if p_value <= 0.05:\n",
    "    print(f'p-valor: {round(p_value, 4)}')\n",
    "    print(\"Rejeitamos H0, portanto ficamos com hipótese alternativa (matriz de correlações é diferente da matriz identidade\")\n",
    "else:\n",
    "    print(f'p-valor: {round(p_value, 4)}')\n",
    "    print(\"Aceitamos H0, portanto ficamos a hipótese nula (matriz de correlações é igual a matriz identidade\")"
   ]
  },
  {
   "cell_type": "code",
   "execution_count": 9,
   "metadata": {},
   "outputs": [
    {
     "name": "stdout",
     "output_type": "stream",
     "text": [
      "[3.44078793 1.01989592 1.01155913 0.99164638 0.97675882 0.42231466\n",
      " 0.128448   0.00858917]\n"
     ]
    },
    {
     "data": {
      "text/plain": [
       "8.0"
      ]
     },
     "execution_count": 9,
     "metadata": {},
     "output_type": "execute_result"
    }
   ],
   "source": [
    "#Definindo a PCA (procedimento inicial extraindo todos os fatores possíveis)\n",
    "\n",
    "# o número 8 é quantidade de variaveis em casas_pca\n",
    "\n",
    "fa = FactorAnalyzer(n_factors=8, method='principal', rotation=None).fit(casas_pca)\n",
    "\n",
    "#%% Obtendo os autovalores\n",
    "\n",
    "autovalores = fa.get_eigenvalues()[0]\n",
    "\n",
    "print(autovalores)\n",
    "\n",
    "# Soma dos autovalores\n",
    "\n",
    "round(autovalores.sum(), 2)"
   ]
  },
  {
   "cell_type": "code",
   "execution_count": 11,
   "metadata": {},
   "outputs": [
    {
     "name": "stdout",
     "output_type": "stream",
     "text": [
      "         Autovalor  Variância  Variância Acumulada\n",
      "Fator 1   3.440788   0.430098             0.430098\n",
      "Fator 2   1.019896   0.127487             0.557585\n",
      "Fator 3   1.011559   0.126445             0.684030\n"
     ]
    }
   ],
   "source": [
    "#Critério de Kaiser (raiz latente)\n",
    "\n",
    "# Temos 3 autovalores maiores do que 1\n",
    "\n",
    "fa = FactorAnalyzer(n_factors=3, method='principal', rotation=None).fit(casas_pca)\n",
    "\n",
    "#%% Eigenvalues, variâncias e variâncias acumuladas\n",
    "\n",
    "autovalores_fatores = fa.get_factor_variance()\n",
    "\n",
    "tabela_eigen = pd.DataFrame(autovalores_fatores)\n",
    "tabela_eigen.columns = [f\"Fator {i+1}\" for i, v in enumerate(tabela_eigen.columns)]\n",
    "tabela_eigen.index = ['Autovalor','Variância', 'Variância Acumulada']\n",
    "tabela_eigen = tabela_eigen.T\n",
    "\n",
    "print(tabela_eigen)"
   ]
  },
  {
   "cell_type": "code",
   "execution_count": 12,
   "metadata": {},
   "outputs": [
    {
     "data": {
      "image/png": "[encoded data removed]",
      "text/plain": [
       "<Figure size 1200x800 with 1 Axes>"
      ]
     },
     "metadata": {},
     "output_type": "display_data"
    }
   ],
   "source": [
    "#Gráfico da variância acumulada dos componentes principais\n",
    "\n",
    "plt.figure(figsize=(12,8))\n",
    "ax = sns.barplot(x=tabela_eigen.index, y=tabela_eigen['Variância'], data=tabela_eigen, palette='pastel')\n",
    "ax.bar_label(ax.containers[0])\n",
    "plt.title(\"Fatores Extraídos\", fontsize=16)\n",
    "plt.xlabel(f\"{tabela_eigen.shape[0]} fatores que explicam {round(tabela_eigen['Variância'].sum()*100,2)}% da variância\", fontsize=12)\n",
    "plt.ylabel(\"Porcentagem de variância explicada\", fontsize=12)\n",
    "plt.show()"
   ]
  },
  {
   "cell_type": "code",
   "execution_count": 13,
   "metadata": {},
   "outputs": [
    {
     "name": "stdout",
     "output_type": "stream",
     "text": [
      "                             Fator 1   Fator 2   Fator 3\n",
      "land_size_sqm               0.969318  0.000670  0.003416\n",
      "house_size_sqm              0.967866 -0.000800  0.005045\n",
      "no_of_rooms                 0.948705 -0.002536  0.002939\n",
      "no_of_bathrooms             0.814810 -0.002453 -0.002870\n",
      "distance_to_school         -0.013787  0.349991  0.642441\n",
      "house_age                   0.007448  0.080374  0.692606\n",
      "distance_to_supermarket_km -0.000987  0.720297 -0.113461\n",
      "crime_rate_index            0.015520  0.610001 -0.325882\n"
     ]
    }
   ],
   "source": [
    "#Determinando as cargas fatoriais\n",
    "\n",
    "#as cargas fatoriais sao a correlacao das variaveis originais com os seus fatores extraidos\n",
    "\n",
    "cargas_fatoriais = fa.loadings_\n",
    "\n",
    "tabela_cargas = pd.DataFrame(cargas_fatoriais)\n",
    "tabela_cargas.columns = [f\"Fator {i+1}\" for i, v in enumerate(tabela_cargas.columns)]\n",
    "tabela_cargas.index = casas_pca.columns\n",
    "\n",
    "print(tabela_cargas)"
   ]
  },
  {
   "cell_type": "code",
   "execution_count": 14,
   "metadata": {},
   "outputs": [
    {
     "data": {
      "image/png": "[encoded data removed]",
      "text/plain": [
       "<Figure size 640x480 with 1 Axes>"
      ]
     },
     "metadata": {},
     "output_type": "display_data"
    }
   ],
   "source": [
    "#Analisando as cargas fatoriais em cada fator extraído\n",
    "\n",
    "tabela_cargas_graph = tabela_cargas.reset_index()\n",
    "tabela_cargas_graph = tabela_cargas_graph.melt(id_vars='index')\n",
    "\n",
    "sns.barplot(data=tabela_cargas_graph, x='variable', y='value', hue='index', palette='bright')\n",
    "plt.legend(title='Variáveis', bbox_to_anchor=(1,1), fontsize = '6')\n",
    "plt.title('Cargas Fatoriais', fontsize='12')\n",
    "plt.xlabel(xlabel=None)\n",
    "plt.ylabel(ylabel=None)\n",
    "plt.show()"
   ]
  },
  {
   "cell_type": "code",
   "execution_count": 15,
   "metadata": {},
   "outputs": [
    {
     "name": "stdout",
     "output_type": "stream",
     "text": [
      "                            Comunalidades\n",
      "land_size_sqm                    0.939590\n",
      "house_size_sqm                   0.936791\n",
      "no_of_rooms                      0.900057\n",
      "no_of_bathrooms                  0.663930\n",
      "distance_to_school               0.535414\n",
      "house_age                        0.486218\n",
      "distance_to_supermarket_km       0.531702\n",
      "crime_rate_index                 0.478541\n"
     ]
    }
   ],
   "source": [
    "#Determinando as comunalidades\n",
    "\n",
    "comunalidades = fa.get_communalities()\n",
    "\n",
    "tabela_comunalidades = pd.DataFrame(comunalidades)\n",
    "tabela_comunalidades.columns = ['Comunalidades']\n",
    "tabela_comunalidades.index = casas_pca.columns\n",
    "\n",
    "print(tabela_comunalidades)"
   ]
  },
  {
   "cell_type": "code",
   "execution_count": 16,
   "metadata": {},
   "outputs": [
    {
     "data": {
      "text/html": [
       "<div>\n",
       "<style scoped>\n",
       "    .dataframe tbody tr th:only-of-type {\n",
       "        vertical-align: middle;\n",
       "    }\n",
       "\n",
       "    .dataframe tbody tr th {\n",
       "        vertical-align: top;\n",
       "    }\n",
       "\n",
       "    .dataframe thead th {\n",
       "        text-align: right;\n",
       "    }\n",
       "</style>\n",
       "<table border=\"1\" class=\"dataframe\">\n",
       "  <thead>\n",
       "    <tr style=\"text-align: right;\">\n",
       "      <th></th>\n",
       "      <th>land_size_sqm</th>\n",
       "      <th>house_size_sqm</th>\n",
       "      <th>no_of_rooms</th>\n",
       "      <th>no_of_bathrooms</th>\n",
       "      <th>distance_to_school</th>\n",
       "      <th>house_age</th>\n",
       "      <th>distance_to_supermarket_km</th>\n",
       "      <th>crime_rate_index</th>\n",
       "      <th>property_value</th>\n",
       "      <th>Fator 1</th>\n",
       "      <th>Fator 2</th>\n",
       "      <th>Fator 3</th>\n",
       "    </tr>\n",
       "  </thead>\n",
       "  <tbody>\n",
       "    <tr>\n",
       "      <th>0</th>\n",
       "      <td>201</td>\n",
       "      <td>177</td>\n",
       "      <td>3</td>\n",
       "      <td>1</td>\n",
       "      <td>3.3</td>\n",
       "      <td>10</td>\n",
       "      <td>6.8</td>\n",
       "      <td>0.90</td>\n",
       "      <td>165432</td>\n",
       "      <td>-0.763931</td>\n",
       "      <td>0.409791</td>\n",
       "      <td>-0.005071</td>\n",
       "    </tr>\n",
       "    <tr>\n",
       "      <th>1</th>\n",
       "      <td>196</td>\n",
       "      <td>182</td>\n",
       "      <td>4</td>\n",
       "      <td>3</td>\n",
       "      <td>1.2</td>\n",
       "      <td>11</td>\n",
       "      <td>4.1</td>\n",
       "      <td>1.42</td>\n",
       "      <td>187043</td>\n",
       "      <td>-0.286895</td>\n",
       "      <td>-0.720208</td>\n",
       "      <td>-0.507750</td>\n",
       "    </tr>\n",
       "    <tr>\n",
       "      <th>2</th>\n",
       "      <td>198</td>\n",
       "      <td>182</td>\n",
       "      <td>4</td>\n",
       "      <td>4</td>\n",
       "      <td>5.9</td>\n",
       "      <td>20</td>\n",
       "      <td>2.1</td>\n",
       "      <td>4.12</td>\n",
       "      <td>148658</td>\n",
       "      <td>-0.132644</td>\n",
       "      <td>0.413418</td>\n",
       "      <td>1.559236</td>\n",
       "    </tr>\n",
       "    <tr>\n",
       "      <th>3</th>\n",
       "      <td>178</td>\n",
       "      <td>166</td>\n",
       "      <td>2</td>\n",
       "      <td>3</td>\n",
       "      <td>5.9</td>\n",
       "      <td>5</td>\n",
       "      <td>0.7</td>\n",
       "      <td>4.36</td>\n",
       "      <td>123785</td>\n",
       "      <td>-0.734837</td>\n",
       "      <td>-0.181887</td>\n",
       "      <td>-0.025554</td>\n",
       "    </tr>\n",
       "    <tr>\n",
       "      <th>4</th>\n",
       "      <td>183</td>\n",
       "      <td>165</td>\n",
       "      <td>3</td>\n",
       "      <td>1</td>\n",
       "      <td>3.8</td>\n",
       "      <td>8</td>\n",
       "      <td>0.7</td>\n",
       "      <td>0.42</td>\n",
       "      <td>156470</td>\n",
       "      <td>-0.850848</td>\n",
       "      <td>-1.858475</td>\n",
       "      <td>0.369112</td>\n",
       "    </tr>\n",
       "    <tr>\n",
       "      <th>...</th>\n",
       "      <td>...</td>\n",
       "      <td>...</td>\n",
       "      <td>...</td>\n",
       "      <td>...</td>\n",
       "      <td>...</td>\n",
       "      <td>...</td>\n",
       "      <td>...</td>\n",
       "      <td>...</td>\n",
       "      <td>...</td>\n",
       "      <td>...</td>\n",
       "      <td>...</td>\n",
       "      <td>...</td>\n",
       "    </tr>\n",
       "    <tr>\n",
       "      <th>4949</th>\n",
       "      <td>297</td>\n",
       "      <td>261</td>\n",
       "      <td>4</td>\n",
       "      <td>4</td>\n",
       "      <td>2.9</td>\n",
       "      <td>20</td>\n",
       "      <td>4.1</td>\n",
       "      <td>3.99</td>\n",
       "      <td>235882</td>\n",
       "      <td>0.378174</td>\n",
       "      <td>0.565149</td>\n",
       "      <td>0.528827</td>\n",
       "    </tr>\n",
       "    <tr>\n",
       "      <th>4950</th>\n",
       "      <td>302</td>\n",
       "      <td>282</td>\n",
       "      <td>4</td>\n",
       "      <td>2</td>\n",
       "      <td>3.8</td>\n",
       "      <td>12</td>\n",
       "      <td>4.8</td>\n",
       "      <td>2.09</td>\n",
       "      <td>290995</td>\n",
       "      <td>0.149131</td>\n",
       "      <td>0.216979</td>\n",
       "      <td>0.269514</td>\n",
       "    </tr>\n",
       "    <tr>\n",
       "      <th>4951</th>\n",
       "      <td>153</td>\n",
       "      <td>147</td>\n",
       "      <td>3</td>\n",
       "      <td>4</td>\n",
       "      <td>3.3</td>\n",
       "      <td>7</td>\n",
       "      <td>4.7</td>\n",
       "      <td>3.98</td>\n",
       "      <td>106428</td>\n",
       "      <td>-0.533601</td>\n",
       "      <td>0.683343</td>\n",
       "      <td>-0.789444</td>\n",
       "    </tr>\n",
       "    <tr>\n",
       "      <th>4952</th>\n",
       "      <td>180</td>\n",
       "      <td>158</td>\n",
       "      <td>2</td>\n",
       "      <td>1</td>\n",
       "      <td>2.2</td>\n",
       "      <td>1</td>\n",
       "      <td>3.4</td>\n",
       "      <td>3.75</td>\n",
       "      <td>107579</td>\n",
       "      <td>-1.044735</td>\n",
       "      <td>-0.113250</td>\n",
       "      <td>-1.662989</td>\n",
       "    </tr>\n",
       "    <tr>\n",
       "      <th>4953</th>\n",
       "      <td>695</td>\n",
       "      <td>619</td>\n",
       "      <td>8</td>\n",
       "      <td>6</td>\n",
       "      <td>0.4</td>\n",
       "      <td>5</td>\n",
       "      <td>0.4</td>\n",
       "      <td>4.64</td>\n",
       "      <td>537980</td>\n",
       "      <td>3.523850</td>\n",
       "      <td>-1.146633</td>\n",
       "      <td>-1.754357</td>\n",
       "    </tr>\n",
       "  </tbody>\n",
       "</table>\n",
       "<p>4954 rows × 12 columns</p>\n",
       "</div>"
      ],
      "text/plain": [
       "      land_size_sqm  house_size_sqm  no_of_rooms  no_of_bathrooms  \\\n",
       "0               201             177            3                1   \n",
       "1               196             182            4                3   \n",
       "2               198             182            4                4   \n",
       "3               178             166            2                3   \n",
       "4               183             165            3                1   \n",
       "...             ...             ...          ...              ...   \n",
       "4949            297             261            4                4   \n",
       "4950            302             282            4                2   \n",
       "4951            153             147            3                4   \n",
       "4952            180             158            2                1   \n",
       "4953            695             619            8                6   \n",
       "\n",
       "      distance_to_school  house_age  distance_to_supermarket_km  \\\n",
       "0                    3.3         10                         6.8   \n",
       "1                    1.2         11                         4.1   \n",
       "2                    5.9         20                         2.1   \n",
       "3                    5.9          5                         0.7   \n",
       "4                    3.8          8                         0.7   \n",
       "...                  ...        ...                         ...   \n",
       "4949                 2.9         20                         4.1   \n",
       "4950                 3.8         12                         4.8   \n",
       "4951                 3.3          7                         4.7   \n",
       "4952                 2.2          1                         3.4   \n",
       "4953                 0.4          5                         0.4   \n",
       "\n",
       "      crime_rate_index  property_value   Fator 1   Fator 2   Fator 3  \n",
       "0                 0.90          165432 -0.763931  0.409791 -0.005071  \n",
       "1                 1.42          187043 -0.286895 -0.720208 -0.507750  \n",
       "2                 4.12          148658 -0.132644  0.413418  1.559236  \n",
       "3                 4.36          123785 -0.734837 -0.181887 -0.025554  \n",
       "4                 0.42          156470 -0.850848 -1.858475  0.369112  \n",
       "...                ...             ...       ...       ...       ...  \n",
       "4949              3.99          235882  0.378174  0.565149  0.528827  \n",
       "4950              2.09          290995  0.149131  0.216979  0.269514  \n",
       "4951              3.98          106428 -0.533601  0.683343 -0.789444  \n",
       "4952              3.75          107579 -1.044735 -0.113250 -1.662989  \n",
       "4953              4.64          537980  3.523850 -1.146633 -1.754357  \n",
       "\n",
       "[4954 rows x 12 columns]"
      ]
     },
     "execution_count": 16,
     "metadata": {},
     "output_type": "execute_result"
    }
   ],
   "source": [
    "#Extração dos fatores para as observações do banco de dados\n",
    "\n",
    "fatores = pd.DataFrame(fa.transform(casas_pca))\n",
    "fatores.columns =  [f\"Fator {i+1}\" for i, v in enumerate(fatores.columns)]\n",
    "\n",
    "# Adicionando os fatores ao banco de dados\n",
    "\n",
    "casas = pd.concat([casas.reset_index(drop=True), fatores], axis=1)\n",
    "\n",
    "casas"
   ]
  },
  {
   "cell_type": "code",
   "execution_count": 17,
   "metadata": {},
   "outputs": [
    {
     "name": "stdout",
     "output_type": "stream",
     "text": [
      "                             Fator 1   Fator 2   Fator 3\n",
      "land_size_sqm               0.281714  0.000657  0.003377\n",
      "house_size_sqm              0.281292 -0.000784  0.004987\n",
      "no_of_rooms                 0.275723 -0.002487  0.002906\n",
      "no_of_bathrooms             0.236809 -0.002405 -0.002837\n",
      "distance_to_school         -0.004007  0.343163  0.635100\n",
      "house_age                   0.002165  0.078806  0.684691\n",
      "distance_to_supermarket_km -0.000287  0.706245 -0.112164\n",
      "crime_rate_index            0.004510  0.598101 -0.322158\n"
     ]
    }
   ],
   "source": [
    "#Identificando os scores fatoriais (pesos)\n",
    "\n",
    "scores = fa.weights_\n",
    "\n",
    "tabela_scores = pd.DataFrame(scores)\n",
    "tabela_scores.columns = [f\"Fator {i+1}\" for i, v in enumerate(tabela_scores.columns)]\n",
    "tabela_scores.index = casas_pca.columns\n",
    "\n",
    "print(tabela_scores)"
   ]
  },
  {
   "cell_type": "code",
   "execution_count": 18,
   "metadata": {},
   "outputs": [
    {
     "data": {
      "image/png": "[encoded data removed]",
      "text/plain": [
       "<Figure size 640x480 with 1 Axes>"
      ]
     },
     "metadata": {},
     "output_type": "display_data"
    }
   ],
   "source": [
    "#Analisando os scores fatoriais em cada fator extraído\n",
    "\n",
    "tabela_scores_graph = tabela_scores.reset_index()\n",
    "tabela_scores_graph = tabela_scores_graph.melt(id_vars='index')\n",
    "\n",
    "sns.barplot(data=tabela_scores_graph, x='variable', y='value', hue='index', palette='rocket')\n",
    "plt.legend(title='Variáveis', bbox_to_anchor=(1,1), fontsize = '6')\n",
    "plt.title('Scores Fatoriais', fontsize='12')\n",
    "plt.xlabel(xlabel=None)\n",
    "plt.ylabel(ylabel=None)\n",
    "plt.show()"
   ]
  },
  {
   "cell_type": "code",
   "execution_count": 19,
   "metadata": {},
   "outputs": [
    {
     "data": {
      "text/html": [
       "<div>\n",
       "<style scoped>\n",
       "    .dataframe tbody tr th:only-of-type {\n",
       "        vertical-align: middle;\n",
       "    }\n",
       "\n",
       "    .dataframe tbody tr th {\n",
       "        vertical-align: top;\n",
       "    }\n",
       "\n",
       "    .dataframe thead th {\n",
       "        text-align: right;\n",
       "    }\n",
       "</style>\n",
       "<table border=\"1\" class=\"dataframe\">\n",
       "  <thead>\n",
       "    <tr style=\"text-align: right;\">\n",
       "      <th></th>\n",
       "      <th>land_size_sqm</th>\n",
       "      <th>house_size_sqm</th>\n",
       "      <th>no_of_rooms</th>\n",
       "      <th>no_of_bathrooms</th>\n",
       "      <th>distance_to_school</th>\n",
       "      <th>house_age</th>\n",
       "      <th>distance_to_supermarket_km</th>\n",
       "      <th>crime_rate_index</th>\n",
       "      <th>property_value</th>\n",
       "      <th>Fator 1</th>\n",
       "      <th>Fator 2</th>\n",
       "      <th>Fator 3</th>\n",
       "      <th>Ranking</th>\n",
       "    </tr>\n",
       "  </thead>\n",
       "  <tbody>\n",
       "    <tr>\n",
       "      <th>1272</th>\n",
       "      <td>773</td>\n",
       "      <td>760</td>\n",
       "      <td>8</td>\n",
       "      <td>9</td>\n",
       "      <td>3.5</td>\n",
       "      <td>16</td>\n",
       "      <td>6.5</td>\n",
       "      <td>4.08</td>\n",
       "      <td>576789</td>\n",
       "      <td>4.595015</td>\n",
       "      <td>1.485529</td>\n",
       "      <td>0.176303</td>\n",
       "      <td>2.187987</td>\n",
       "    </tr>\n",
       "    <tr>\n",
       "      <th>2165</th>\n",
       "      <td>727</td>\n",
       "      <td>642</td>\n",
       "      <td>8</td>\n",
       "      <td>9</td>\n",
       "      <td>6.7</td>\n",
       "      <td>15</td>\n",
       "      <td>4.1</td>\n",
       "      <td>5.64</td>\n",
       "      <td>549116</td>\n",
       "      <td>4.116004</td>\n",
       "      <td>1.706603</td>\n",
       "      <td>0.919358</td>\n",
       "      <td>2.104105</td>\n",
       "    </tr>\n",
       "    <tr>\n",
       "      <th>1700</th>\n",
       "      <td>788</td>\n",
       "      <td>737</td>\n",
       "      <td>8</td>\n",
       "      <td>7</td>\n",
       "      <td>4.2</td>\n",
       "      <td>12</td>\n",
       "      <td>6.8</td>\n",
       "      <td>3.70</td>\n",
       "      <td>609407</td>\n",
       "      <td>4.268170</td>\n",
       "      <td>1.534514</td>\n",
       "      <td>0.023299</td>\n",
       "      <td>2.034310</td>\n",
       "    </tr>\n",
       "    <tr>\n",
       "      <th>3245</th>\n",
       "      <td>767</td>\n",
       "      <td>678</td>\n",
       "      <td>8</td>\n",
       "      <td>9</td>\n",
       "      <td>5.8</td>\n",
       "      <td>12</td>\n",
       "      <td>4.6</td>\n",
       "      <td>0.06</td>\n",
       "      <td>692086</td>\n",
       "      <td>4.318585</td>\n",
       "      <td>-0.227890</td>\n",
       "      <td>1.321044</td>\n",
       "      <td>1.995403</td>\n",
       "    </tr>\n",
       "    <tr>\n",
       "      <th>2080</th>\n",
       "      <td>749</td>\n",
       "      <td>634</td>\n",
       "      <td>8</td>\n",
       "      <td>6</td>\n",
       "      <td>6.6</td>\n",
       "      <td>21</td>\n",
       "      <td>1.9</td>\n",
       "      <td>3.98</td>\n",
       "      <td>548638</td>\n",
       "      <td>3.707133</td>\n",
       "      <td>0.416845</td>\n",
       "      <td>1.971345</td>\n",
       "      <td>1.896841</td>\n",
       "    </tr>\n",
       "    <tr>\n",
       "      <th>...</th>\n",
       "      <td>...</td>\n",
       "      <td>...</td>\n",
       "      <td>...</td>\n",
       "      <td>...</td>\n",
       "      <td>...</td>\n",
       "      <td>...</td>\n",
       "      <td>...</td>\n",
       "      <td>...</td>\n",
       "      <td>...</td>\n",
       "      <td>...</td>\n",
       "      <td>...</td>\n",
       "      <td>...</td>\n",
       "      <td>...</td>\n",
       "    </tr>\n",
       "    <tr>\n",
       "      <th>608</th>\n",
       "      <td>101</td>\n",
       "      <td>96</td>\n",
       "      <td>1</td>\n",
       "      <td>1</td>\n",
       "      <td>1.2</td>\n",
       "      <td>4</td>\n",
       "      <td>2.2</td>\n",
       "      <td>1.03</td>\n",
       "      <td>80127</td>\n",
       "      <td>-1.622788</td>\n",
       "      <td>-1.607367</td>\n",
       "      <td>-1.092035</td>\n",
       "      <td>-1.040959</td>\n",
       "    </tr>\n",
       "    <tr>\n",
       "      <th>4214</th>\n",
       "      <td>107</td>\n",
       "      <td>103</td>\n",
       "      <td>1</td>\n",
       "      <td>1</td>\n",
       "      <td>1.1</td>\n",
       "      <td>6</td>\n",
       "      <td>1.4</td>\n",
       "      <td>0.23</td>\n",
       "      <td>87009</td>\n",
       "      <td>-1.586654</td>\n",
       "      <td>-2.158828</td>\n",
       "      <td>-0.714283</td>\n",
       "      <td>-1.047958</td>\n",
       "    </tr>\n",
       "    <tr>\n",
       "      <th>1910</th>\n",
       "      <td>100</td>\n",
       "      <td>85</td>\n",
       "      <td>1</td>\n",
       "      <td>1</td>\n",
       "      <td>1.6</td>\n",
       "      <td>6</td>\n",
       "      <td>0.7</td>\n",
       "      <td>0.29</td>\n",
       "      <td>87039</td>\n",
       "      <td>-1.660063</td>\n",
       "      <td>-2.300881</td>\n",
       "      <td>-0.528943</td>\n",
       "      <td>-1.074205</td>\n",
       "    </tr>\n",
       "    <tr>\n",
       "      <th>3676</th>\n",
       "      <td>106</td>\n",
       "      <td>103</td>\n",
       "      <td>1</td>\n",
       "      <td>1</td>\n",
       "      <td>0.8</td>\n",
       "      <td>3</td>\n",
       "      <td>1.3</td>\n",
       "      <td>1.67</td>\n",
       "      <td>88692</td>\n",
       "      <td>-1.586057</td>\n",
       "      <td>-1.787117</td>\n",
       "      <td>-1.393747</td>\n",
       "      <td>-1.086227</td>\n",
       "    </tr>\n",
       "    <tr>\n",
       "      <th>4337</th>\n",
       "      <td>104</td>\n",
       "      <td>102</td>\n",
       "      <td>1</td>\n",
       "      <td>1</td>\n",
       "      <td>1.6</td>\n",
       "      <td>3</td>\n",
       "      <td>0.2</td>\n",
       "      <td>1.41</td>\n",
       "      <td>78341</td>\n",
       "      <td>-1.596609</td>\n",
       "      <td>-2.130020</td>\n",
       "      <td>-1.030558</td>\n",
       "      <td>-1.088558</td>\n",
       "    </tr>\n",
       "  </tbody>\n",
       "</table>\n",
       "<p>4954 rows × 13 columns</p>\n",
       "</div>"
      ],
      "text/plain": [
       "      land_size_sqm  house_size_sqm  no_of_rooms  no_of_bathrooms  \\\n",
       "1272            773             760            8                9   \n",
       "2165            727             642            8                9   \n",
       "1700            788             737            8                7   \n",
       "3245            767             678            8                9   \n",
       "2080            749             634            8                6   \n",
       "...             ...             ...          ...              ...   \n",
       "608             101              96            1                1   \n",
       "4214            107             103            1                1   \n",
       "1910            100              85            1                1   \n",
       "3676            106             103            1                1   \n",
       "4337            104             102            1                1   \n",
       "\n",
       "      distance_to_school  house_age  distance_to_supermarket_km  \\\n",
       "1272                 3.5         16                         6.5   \n",
       "2165                 6.7         15                         4.1   \n",
       "1700                 4.2         12                         6.8   \n",
       "3245                 5.8         12                         4.6   \n",
       "2080                 6.6         21                         1.9   \n",
       "...                  ...        ...                         ...   \n",
       "608                  1.2          4                         2.2   \n",
       "4214                 1.1          6                         1.4   \n",
       "1910                 1.6          6                         0.7   \n",
       "3676                 0.8          3                         1.3   \n",
       "4337                 1.6          3                         0.2   \n",
       "\n",
       "      crime_rate_index  property_value   Fator 1   Fator 2   Fator 3   Ranking  \n",
       "1272              4.08          576789  4.595015  1.485529  0.176303  2.187987  \n",
       "2165              5.64          549116  4.116004  1.706603  0.919358  2.104105  \n",
       "1700              3.70          609407  4.268170  1.534514  0.023299  2.034310  \n",
       "3245              0.06          692086  4.318585 -0.227890  1.321044  1.995403  \n",
       "2080              3.98          548638  3.707133  0.416845  1.971345  1.896841  \n",
       "...                ...             ...       ...       ...       ...       ...  \n",
       "608               1.03           80127 -1.622788 -1.607367 -1.092035 -1.040959  \n",
       "4214              0.23           87009 -1.586654 -2.158828 -0.714283 -1.047958  \n",
       "1910              0.29           87039 -1.660063 -2.300881 -0.528943 -1.074205  \n",
       "3676              1.67           88692 -1.586057 -1.787117 -1.393747 -1.086227  \n",
       "4337              1.41           78341 -1.596609 -2.130020 -1.030558 -1.088558  \n",
       "\n",
       "[4954 rows x 13 columns]"
      ]
     },
     "execution_count": 19,
     "metadata": {},
     "output_type": "execute_result"
    }
   ],
   "source": [
    "#consolidar os 3 fatores em uma medida única (soma ponderada)\n",
    "\n",
    "casas['Ranking'] = 0\n",
    "\n",
    "for index, item in enumerate(list(tabela_eigen.index)):\n",
    "    variancia = tabela_eigen.loc[item]['Variância']\n",
    "\n",
    "    casas['Ranking'] = casas['Ranking'] + casas[tabela_eigen.index[index]]*variancia\n",
    "\n",
    "casas = casas.sort_values(by = 'Ranking', ascending = False)\n",
    "\n",
    "casas"
   ]
  },
  {
   "cell_type": "code",
   "execution_count": 20,
   "metadata": {},
   "outputs": [
    {
     "data": {
      "image/png": "[encoded data removed]",
      "text/plain": [
       "<Figure size 1000x600 with 1 Axes>"
      ]
     },
     "metadata": {},
     "output_type": "display_data"
    }
   ],
   "source": [
    "# Create a scatter plot for the 'Ranking' column\n",
    "plt.figure(figsize=(10, 6))\n",
    "plt.scatter(range(len(casas)), casas['Ranking'], alpha=0.6)\n",
    "plt.title('Scatter Plot of Property Rankings')\n",
    "plt.xlabel('Property Index')\n",
    "plt.ylabel('Ranking')\n",
    "plt.grid(True)\n",
    "plt.show()"
   ]
  },
  {
   "cell_type": "markdown",
   "metadata": {},
   "source": [
    "#### ANÁLISE RANKINGS"
   ]
  },
  {
   "cell_type": "markdown",
   "metadata": {},
   "source": [
    "1 - Fator 1: Correlação muito alta com o ranking (0.922). Isso sugere que o principal fator que contribui para a classificação dos imóveis é fortemente relacionado ao tamanho do terreno e da casa, além do número de quartos e banheiros.\n",
    "\n",
    "2 - Tamanho do Terreno e da Casa, Número de Quartos e Banheiros:\n",
    "\n",
    "- land_size_sqm (0.896)\n",
    "- house_size_sqm (0.894)\n",
    "- no_of_rooms (0.876)\n",
    "- no_of_bathrooms (0.750)\n",
    "\n",
    "Estes fatores estão fortemente correlacionados com o ranking, indicando que imóveis maiores com mais quartos e banheiros tendem a ter rankings melhores.\n",
    "\n",
    "3 - Valor da Propriedade:\n",
    "\n",
    "- property_value (0.849)\n",
    "Existe uma forte correlação positiva entre o valor da propriedade e o ranking, sugerindo que imóveis com valores mais altos tendem a ter rankings melhores.\n",
    "\n",
    "4 - Distância e Idade da Casa:\n",
    "\n",
    "- distance_to_school (0.257)\n",
    "- house_age (0.217)\n",
    "- distance_to_supermarket_km (0.165)\n",
    "- crime_rate_index (0.093)\n",
    "\n",
    "Estas variáveis têm correlações menores com o ranking, indicando que enquanto elas influenciam, elas não são os principais determinantes da classificação."
   ]
  },
  {
   "cell_type": "markdown",
   "metadata": {},
   "source": [
    "#### INSIGHTS E DECISÕES"
   ]
  },
  {
   "cell_type": "markdown",
   "metadata": {},
   "source": [
    "1 - Foco em Propriedades com Maior Espaço:\n",
    "\n",
    "- Investidores e compradores podem focar em propriedades com maiores tamanhos de terrenos e casas, assim como maior número de quartos e banheiros, para garantir um bom ranking.\n",
    "\n",
    "2 - Valorização do Imóvel:\n",
    "\n",
    "- Propriedades com altos rankings tendem a ter maiores valores de mercado. Portanto, melhorias que aumentam o tamanho útil ou a quantidade de quartos e banheiros podem ser estratégias eficazes para aumentar o valor do imóvel.\n",
    "\n",
    "3 - Prioridade para Localizações e Segurança:\n",
    "\n",
    "- Embora a influência seja menor, a proximidade a escolas, supermercados e baixa taxa de criminalidade ainda são fatores importantes a serem considerados na escolha de um imóvel.\n",
    "\n",
    "4 - Estratégias de Renovação:\n",
    "\n",
    "- Melhorias na infraestrutura (como adicionar quartos e banheiros) podem ser priorizadas para elevar o ranking de um imóvel.\n",
    "\n",
    "5 - Desenvolvimento e Planejamento Urbano:\n",
    "\n",
    "- As cidades podem utilizar essas informações para direcionar o desenvolvimento urbano, incentivando construções que maximizem os espaços habitacionais e melhorem as infraestruturas locais.\n",
    "\n",
    "Esses insights podem orientar investidores, desenvolvedores e planejadores urbanos na tomada de decisões mais informadas e estratégicas."
   ]
  }
 ],
 "metadata": {
  "kernelspec": {
   "display_name": "base",
   "language": "python",
   "name": "python3"
  },
  "language_info": {
   "codemirror_mode": {
    "name": "ipython",
    "version": 3
   },
   "file_extension": ".py",
   "mimetype": "text/x-python",
   "name": "python",
   "nbconvert_exporter": "python",
   "pygments_lexer": "ipython3",
   "version": "3.11.5"
  }
 },
 "nbformat": 4,
 "nbformat_minor": 2
}
